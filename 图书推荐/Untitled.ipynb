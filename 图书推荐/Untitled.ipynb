{
 "cells": [
  {
   "cell_type": "code",
   "execution_count": 1,
   "id": "a07b45c6-54b8-4eac-b105-34418f949726",
   "metadata": {},
   "outputs": [],
   "source": [
    "import numpy as np\n",
    "import pandas as pd\n",
    "import random\n",
    "\n",
    "\n",
    "\n",
    "import os"
   ]
  },
  {
   "cell_type": "code",
   "execution_count": 2,
   "id": "2ae579cd-6cec-4376-82e9-8af5305dabc4",
   "metadata": {},
   "outputs": [
    {
     "name": "stdout",
     "output_type": "stream",
     "text": [
      "共53424个用户，10000本图书，5869631条记录\n"
     ]
    }
   ],
   "source": [
    "df = pd.read_csv('train_dataset.csv')\n",
    "print('共{}个用户，{}本图书，{}条记录'.format(max(df['user_id'])+1, max(df['item_id'])+1, len(df)))"
   ]
  },
  {
   "cell_type": "code",
   "execution_count": 3,
   "id": "e3ff3829-76a5-46eb-9127-c3fa4a4cb2f6",
   "metadata": {},
   "outputs": [
    {
     "data": {
      "text/html": [
       "<div>\n",
       "<style scoped>\n",
       "    .dataframe tbody tr th:only-of-type {\n",
       "        vertical-align: middle;\n",
       "    }\n",
       "\n",
       "    .dataframe tbody tr th {\n",
       "        vertical-align: top;\n",
       "    }\n",
       "\n",
       "    .dataframe thead th {\n",
       "        text-align: right;\n",
       "    }\n",
       "</style>\n",
       "<table border=\"1\" class=\"dataframe\">\n",
       "  <thead>\n",
       "    <tr style=\"text-align: right;\">\n",
       "      <th></th>\n",
       "      <th>user_id</th>\n",
       "      <th>item_id</th>\n",
       "    </tr>\n",
       "  </thead>\n",
       "  <tbody>\n",
       "    <tr>\n",
       "      <th>0</th>\n",
       "      <td>0</td>\n",
       "      <td>257</td>\n",
       "    </tr>\n",
       "    <tr>\n",
       "      <th>1</th>\n",
       "      <td>0</td>\n",
       "      <td>267</td>\n",
       "    </tr>\n",
       "    <tr>\n",
       "      <th>2</th>\n",
       "      <td>0</td>\n",
       "      <td>5555</td>\n",
       "    </tr>\n",
       "    <tr>\n",
       "      <th>3</th>\n",
       "      <td>0</td>\n",
       "      <td>3637</td>\n",
       "    </tr>\n",
       "    <tr>\n",
       "      <th>4</th>\n",
       "      <td>0</td>\n",
       "      <td>1795</td>\n",
       "    </tr>\n",
       "  </tbody>\n",
       "</table>\n",
       "</div>"
      ],
      "text/plain": [
       "   user_id  item_id\n",
       "0        0      257\n",
       "1        0      267\n",
       "2        0     5555\n",
       "3        0     3637\n",
       "4        0     1795"
      ]
     },
     "execution_count": 3,
     "metadata": {},
     "output_type": "execute_result"
    }
   ],
   "source": [
    "df.head()"
   ]
  },
  {
   "cell_type": "markdown",
   "id": "15db8561-1401-4e41-a087-c83d69c7d503",
   "metadata": {},
   "source": [
    "## 数据预处理¶\n",
    "构建Dataset类\n",
    "构建负样本\n",
    "划分测试集与验证集\n",
    "构建对应的Dataloader"
   ]
  },
  {
   "cell_type": "code",
   "execution_count": 4,
   "id": "ab8f37cf-6eb0-4666-808e-945999d9f1c2",
   "metadata": {},
   "outputs": [
    {
     "data": {
      "text/plain": [
       "17"
      ]
     },
     "execution_count": 4,
     "metadata": {},
     "output_type": "execute_result"
    }
   ],
   "source": [
    "rows_count_per_id = df.groupby('user_id').size().reset_index(name='count')\n",
    "rows_count_per_id['count'].min()"
   ]
  },
  {
   "cell_type": "code",
   "execution_count": 5,
   "id": "2694f9f2-30ee-4326-ae59-c52a27421228",
   "metadata": {},
   "outputs": [],
   "source": [
    "def get_sequence_and_next_value(data):\n",
    "    window_size=10\n",
    "    sequences = []\n",
    "    next_values = []\n",
    "    data=data.item_id.values\n",
    "    \n",
    "    for i in range(len(data) - window_size):\n",
    "        sequence = data[i : i + window_size]\n",
    "        next_value = data[i + window_size]\n",
    "        sequences.append(sequence)\n",
    "        next_values.append(next_value)\n",
    "  \n",
    "    # 生成的序列和对应值\n",
    "    data = {\n",
    "        'Sequence': sequences,\n",
    "        'Next_Value': next_values\n",
    "    }\n",
    "    \n",
    "    # 将数据转换为 DataFrame\n",
    "    df = pd.DataFrame(data)\n",
    "    \n",
    "    return df\n",
    "    \n",
    "\n",
    "# 将数据转换为列表\n"
   ]
  },
  {
   "cell_type": "code",
   "execution_count": 6,
   "id": "e13ca94a-b4e2-4ff7-a74f-e8a239f460fe",
   "metadata": {},
   "outputs": [],
   "source": [
    "x=df.groupby('user_id').apply(get_sequence_and_next_value)"
   ]
  },
  {
   "cell_type": "code",
   "execution_count": 39,
   "id": "7457e7b9-d4eb-4e03-9c47-fc0d82e89a48",
   "metadata": {},
   "outputs": [],
   "source": [
    "x=x.reset_index(drop=True)\n",
    "\n",
    "x=x.sample(n=30000)"
   ]
  },
  {
   "cell_type": "code",
   "execution_count": 44,
   "id": "54c4b81e-0bd5-46b2-be63-8eef92c42d5c",
   "metadata": {},
   "outputs": [],
   "source": [
    "X=x.Sequence.values\n",
    "df=np.vstack(X)\n",
    "df=pd.DataFrame(df)\n",
    "Y=x.Next_Value.values"
   ]
  },
  {
   "cell_type": "code",
   "execution_count": 48,
   "id": "0df18a73",
   "metadata": {},
   "outputs": [
    {
     "data": {
      "text/plain": [
       "array([5093,  358,   27, ...,  706,  458, 1853], dtype=int64)"
      ]
     },
     "execution_count": 48,
     "metadata": {},
     "output_type": "execute_result"
    }
   ],
   "source": [
    "Y"
   ]
  },
  {
   "cell_type": "code",
   "execution_count": null,
   "id": "da7f37fb-ede1-4339-8915-cea6a132f3de",
   "metadata": {},
   "outputs": [],
   "source": [
    "from pycaret.regression import *\n",
    "s = setup( df, target=Y, session_id = 123)\n"
   ]
  },
  {
   "cell_type": "code",
   "execution_count": null,
   "id": "e4c973d8-797a-45a5-b31f-ceeddaba9fff",
   "metadata": {},
   "outputs": [],
   "source": [
    "x.Sequence.values"
   ]
  },
  {
   "cell_type": "code",
   "execution_count": 25,
   "id": "4015e91a-7e70-4f3d-944b-8312cb5bce7b",
   "metadata": {},
   "outputs": [],
   "source": [
    "df=np.vstack(X)"
   ]
  },
  {
   "cell_type": "code",
   "execution_count": 26,
   "id": "ebe053f0-421a-4f72-b6bf-f1da6f2871e8",
   "metadata": {},
   "outputs": [],
   "source": [
    "df=pd.DataFrame(df)"
   ]
  },
  {
   "cell_type": "code",
   "execution_count": 27,
   "id": "11d550ed",
   "metadata": {},
   "outputs": [
    {
     "data": {
      "text/html": [
       "<div>\n",
       "<style scoped>\n",
       "    .dataframe tbody tr th:only-of-type {\n",
       "        vertical-align: middle;\n",
       "    }\n",
       "\n",
       "    .dataframe tbody tr th {\n",
       "        vertical-align: top;\n",
       "    }\n",
       "\n",
       "    .dataframe thead th {\n",
       "        text-align: right;\n",
       "    }\n",
       "</style>\n",
       "<table border=\"1\" class=\"dataframe\">\n",
       "  <thead>\n",
       "    <tr style=\"text-align: right;\">\n",
       "      <th></th>\n",
       "      <th>0</th>\n",
       "      <th>1</th>\n",
       "      <th>2</th>\n",
       "      <th>3</th>\n",
       "      <th>4</th>\n",
       "      <th>5</th>\n",
       "      <th>6</th>\n",
       "      <th>7</th>\n",
       "      <th>8</th>\n",
       "      <th>9</th>\n",
       "    </tr>\n",
       "  </thead>\n",
       "  <tbody>\n",
       "    <tr>\n",
       "      <th>0</th>\n",
       "      <td>257</td>\n",
       "      <td>267</td>\n",
       "      <td>5555</td>\n",
       "      <td>3637</td>\n",
       "      <td>1795</td>\n",
       "      <td>866</td>\n",
       "      <td>46</td>\n",
       "      <td>2737</td>\n",
       "      <td>4690</td>\n",
       "      <td>237</td>\n",
       "    </tr>\n",
       "    <tr>\n",
       "      <th>1</th>\n",
       "      <td>267</td>\n",
       "      <td>5555</td>\n",
       "      <td>3637</td>\n",
       "      <td>1795</td>\n",
       "      <td>866</td>\n",
       "      <td>46</td>\n",
       "      <td>2737</td>\n",
       "      <td>4690</td>\n",
       "      <td>237</td>\n",
       "      <td>2062</td>\n",
       "    </tr>\n",
       "    <tr>\n",
       "      <th>2</th>\n",
       "      <td>5555</td>\n",
       "      <td>3637</td>\n",
       "      <td>1795</td>\n",
       "      <td>866</td>\n",
       "      <td>46</td>\n",
       "      <td>2737</td>\n",
       "      <td>4690</td>\n",
       "      <td>237</td>\n",
       "      <td>2062</td>\n",
       "      <td>915</td>\n",
       "    </tr>\n",
       "    <tr>\n",
       "      <th>3</th>\n",
       "      <td>3637</td>\n",
       "      <td>1795</td>\n",
       "      <td>866</td>\n",
       "      <td>46</td>\n",
       "      <td>2737</td>\n",
       "      <td>4690</td>\n",
       "      <td>237</td>\n",
       "      <td>2062</td>\n",
       "      <td>915</td>\n",
       "      <td>4613</td>\n",
       "    </tr>\n",
       "    <tr>\n",
       "      <th>4</th>\n",
       "      <td>1795</td>\n",
       "      <td>866</td>\n",
       "      <td>46</td>\n",
       "      <td>2737</td>\n",
       "      <td>4690</td>\n",
       "      <td>237</td>\n",
       "      <td>2062</td>\n",
       "      <td>915</td>\n",
       "      <td>4613</td>\n",
       "      <td>110</td>\n",
       "    </tr>\n",
       "    <tr>\n",
       "      <th>...</th>\n",
       "      <td>...</td>\n",
       "      <td>...</td>\n",
       "      <td>...</td>\n",
       "      <td>...</td>\n",
       "      <td>...</td>\n",
       "      <td>...</td>\n",
       "      <td>...</td>\n",
       "      <td>...</td>\n",
       "      <td>...</td>\n",
       "      <td>...</td>\n",
       "    </tr>\n",
       "    <tr>\n",
       "      <th>5335386</th>\n",
       "      <td>1589</td>\n",
       "      <td>2365</td>\n",
       "      <td>340</td>\n",
       "      <td>3076</td>\n",
       "      <td>6454</td>\n",
       "      <td>3343</td>\n",
       "      <td>8608</td>\n",
       "      <td>564</td>\n",
       "      <td>449</td>\n",
       "      <td>647</td>\n",
       "    </tr>\n",
       "    <tr>\n",
       "      <th>5335387</th>\n",
       "      <td>2365</td>\n",
       "      <td>340</td>\n",
       "      <td>3076</td>\n",
       "      <td>6454</td>\n",
       "      <td>3343</td>\n",
       "      <td>8608</td>\n",
       "      <td>564</td>\n",
       "      <td>449</td>\n",
       "      <td>647</td>\n",
       "      <td>1048</td>\n",
       "    </tr>\n",
       "    <tr>\n",
       "      <th>5335388</th>\n",
       "      <td>340</td>\n",
       "      <td>3076</td>\n",
       "      <td>6454</td>\n",
       "      <td>3343</td>\n",
       "      <td>8608</td>\n",
       "      <td>564</td>\n",
       "      <td>449</td>\n",
       "      <td>647</td>\n",
       "      <td>1048</td>\n",
       "      <td>293</td>\n",
       "    </tr>\n",
       "    <tr>\n",
       "      <th>5335389</th>\n",
       "      <td>3076</td>\n",
       "      <td>6454</td>\n",
       "      <td>3343</td>\n",
       "      <td>8608</td>\n",
       "      <td>564</td>\n",
       "      <td>449</td>\n",
       "      <td>647</td>\n",
       "      <td>1048</td>\n",
       "      <td>293</td>\n",
       "      <td>890</td>\n",
       "    </tr>\n",
       "    <tr>\n",
       "      <th>5335390</th>\n",
       "      <td>6454</td>\n",
       "      <td>3343</td>\n",
       "      <td>8608</td>\n",
       "      <td>564</td>\n",
       "      <td>449</td>\n",
       "      <td>647</td>\n",
       "      <td>1048</td>\n",
       "      <td>293</td>\n",
       "      <td>890</td>\n",
       "      <td>228</td>\n",
       "    </tr>\n",
       "  </tbody>\n",
       "</table>\n",
       "<p>5335391 rows × 10 columns</p>\n",
       "</div>"
      ],
      "text/plain": [
       "            0     1     2     3     4     5     6     7     8     9\n",
       "0         257   267  5555  3637  1795   866    46  2737  4690   237\n",
       "1         267  5555  3637  1795   866    46  2737  4690   237  2062\n",
       "2        5555  3637  1795   866    46  2737  4690   237  2062   915\n",
       "3        3637  1795   866    46  2737  4690   237  2062   915  4613\n",
       "4        1795   866    46  2737  4690   237  2062   915  4613   110\n",
       "...       ...   ...   ...   ...   ...   ...   ...   ...   ...   ...\n",
       "5335386  1589  2365   340  3076  6454  3343  8608   564   449   647\n",
       "5335387  2365   340  3076  6454  3343  8608   564   449   647  1048\n",
       "5335388   340  3076  6454  3343  8608   564   449   647  1048   293\n",
       "5335389  3076  6454  3343  8608   564   449   647  1048   293   890\n",
       "5335390  6454  3343  8608   564   449   647  1048   293   890   228\n",
       "\n",
       "[5335391 rows x 10 columns]"
      ]
     },
     "execution_count": 27,
     "metadata": {},
     "output_type": "execute_result"
    }
   ],
   "source": [
    "df"
   ]
  },
  {
   "cell_type": "code",
   "execution_count": 14,
   "id": "5ef0d652-ec83-420c-81c3-8d09ef7ae24b",
   "metadata": {},
   "outputs": [
    {
     "name": "stdout",
     "output_type": "stream",
     "text": [
      "      0     1     2     3     4     5     6     7     8     9\n",
      "0   257   267  5555  3637  1795   866    46  2737  4690   237\n",
      "1   267  5555  3637  1795   866    46  2737  4690   237  2062\n",
      "2  5555  3637  1795   866    46  2737  4690   237  2062   915\n"
     ]
    }
   ],
   "source": [
    "import pandas as pd\n",
    "import numpy as np\n",
    "\n",
    "# 给定的数组\n",
    "arr = [np.array([257, 267, 5555, 3637, 1795, 866, 46, 2737, 4690, 237]),\n",
    "       np.array([267, 5555, 3637, 1795, 866, 46, 2737, 4690, 237, 2062]),\n",
    "       np.array([5555, 3637, 1795, 866, 46, 2737, 4690, 237, 2062, 915])]\n",
    "\n",
    "# 将数组转换为整体的矩阵\n",
    "matrix = np.vstack(arr)\n",
    "\n",
    "# 创建 DataFrame\n",
    "df = pd.DataFrame(matrix)\n",
    "\n",
    "# 打印结果\n",
    "print(df)"
   ]
  },
  {
   "cell_type": "code",
   "execution_count": 7,
   "id": "07269b61",
   "metadata": {},
   "outputs": [
    {
     "ename": "NameError",
     "evalue": "name 'create_model' is not defined",
     "output_type": "error",
     "traceback": [
      "\u001b[1;31m---------------------------------------------------------------------------\u001b[0m",
      "\u001b[1;31mNameError\u001b[0m                                 Traceback (most recent call last)",
      "\u001b[1;32m~\\AppData\\Local\\Temp\\ipykernel_1780\\2436081269.py\u001b[0m in \u001b[0;36m<module>\u001b[1;34m\u001b[0m\n\u001b[1;32m----> 1\u001b[1;33m \u001b[0mdt\u001b[0m \u001b[1;33m=\u001b[0m \u001b[0mcreate_model\u001b[0m\u001b[1;33m(\u001b[0m\u001b[1;34m'dt'\u001b[0m\u001b[1;33m)\u001b[0m\u001b[1;33m\u001b[0m\u001b[1;33m\u001b[0m\u001b[0m\n\u001b[0m",
      "\u001b[1;31mNameError\u001b[0m: name 'create_model' is not defined"
     ]
    }
   ],
   "source": [
    "dt = create_model('dt')"
   ]
  },
  {
   "cell_type": "code",
   "execution_count": 33,
   "id": "19805285",
   "metadata": {},
   "outputs": [
    {
     "data": {
      "text/plain": [
       "array([array([ 257,  267, 5555, 3637, 1795,  866,   46, 2737, 4690,  237],\n",
       "             dtype=int64)                                                 ,\n",
       "       array([ 267, 5555, 3637, 1795,  866,   46, 2737, 4690,  237, 2062],\n",
       "             dtype=int64)                                                 ,\n",
       "       array([5555, 3637, 1795,  866,   46, 2737, 4690,  237, 2062,  915],\n",
       "             dtype=int64)                                                 ,\n",
       "       ...,\n",
       "       array([ 340, 3076, 6454, 3343, 8608,  564,  449,  647, 1048,  293],\n",
       "             dtype=int64)                                                 ,\n",
       "       array([3076, 6454, 3343, 8608,  564,  449,  647, 1048,  293,  890],\n",
       "             dtype=int64)                                                 ,\n",
       "       array([6454, 3343, 8608,  564,  449,  647, 1048,  293,  890,  228],\n",
       "             dtype=int64)                                                 ],\n",
       "      dtype=object)"
      ]
     },
     "execution_count": 33,
     "metadata": {},
     "output_type": "execute_result"
    }
   ],
   "source": [
    "X"
   ]
  },
  {
   "cell_type": "code",
   "execution_count": 34,
   "id": "aab21587",
   "metadata": {},
   "outputs": [
    {
     "data": {
      "text/plain": [
       "array([2062,  915, 4613, ...,  890,  228,  339], dtype=int64)"
      ]
     },
     "execution_count": 34,
     "metadata": {},
     "output_type": "execute_result"
    }
   ],
   "source": [
    "Y"
   ]
  },
  {
   "cell_type": "code",
   "execution_count": null,
   "id": "28646f52",
   "metadata": {},
   "outputs": [],
   "source": []
  }
 ],
 "metadata": {
  "kernelspec": {
   "display_name": "Python 3 (ipykernel)",
   "language": "python",
   "name": "python3"
  },
  "language_info": {
   "codemirror_mode": {
    "name": "ipython",
    "version": 3
   },
   "file_extension": ".py",
   "mimetype": "text/x-python",
   "name": "python",
   "nbconvert_exporter": "python",
   "pygments_lexer": "ipython3",
   "version": "3.9.18"
  }
 },
 "nbformat": 4,
 "nbformat_minor": 5
}
