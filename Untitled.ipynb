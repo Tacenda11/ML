{
 "cells": [
  {
   "cell_type": "code",
   "execution_count": 12,
   "id": "a07b45c6-54b8-4eac-b105-34418f949726",
   "metadata": {},
   "outputs": [],
   "source": [
    "import numpy as np\n",
    "import pandas as pd\n",
    "import random\n",
    "import os"
   ]
  },
  {
   "cell_type": "code",
   "execution_count": 13,
   "id": "2ae579cd-6cec-4376-82e9-8af5305dabc4",
   "metadata": {},
   "outputs": [
    {
     "name": "stdout",
     "output_type": "stream",
     "text": [
      "共53424个用户，10000本图书，5869631条记录\n"
     ]
    }
   ],
   "source": [
    "df = pd.read_csv('train_dataset.csv')\n",
    "print('共{}个用户，{}本图书，{}条记录'.format(max(df['user_id'])+1, max(df['item_id'])+1, len(df)))"
   ]
  },
  {
   "cell_type": "code",
   "execution_count": 14,
   "id": "e3ff3829-76a5-46eb-9127-c3fa4a4cb2f6",
   "metadata": {},
   "outputs": [
    {
     "data": {
      "text/html": [
       "<div>\n",
       "<style scoped>\n",
       "    .dataframe tbody tr th:only-of-type {\n",
       "        vertical-align: middle;\n",
       "    }\n",
       "\n",
       "    .dataframe tbody tr th {\n",
       "        vertical-align: top;\n",
       "    }\n",
       "\n",
       "    .dataframe thead th {\n",
       "        text-align: right;\n",
       "    }\n",
       "</style>\n",
       "<table border=\"1\" class=\"dataframe\">\n",
       "  <thead>\n",
       "    <tr style=\"text-align: right;\">\n",
       "      <th></th>\n",
       "      <th>user_id</th>\n",
       "      <th>item_id</th>\n",
       "    </tr>\n",
       "  </thead>\n",
       "  <tbody>\n",
       "    <tr>\n",
       "      <th>0</th>\n",
       "      <td>0</td>\n",
       "      <td>257</td>\n",
       "    </tr>\n",
       "    <tr>\n",
       "      <th>1</th>\n",
       "      <td>0</td>\n",
       "      <td>267</td>\n",
       "    </tr>\n",
       "    <tr>\n",
       "      <th>2</th>\n",
       "      <td>0</td>\n",
       "      <td>5555</td>\n",
       "    </tr>\n",
       "    <tr>\n",
       "      <th>3</th>\n",
       "      <td>0</td>\n",
       "      <td>3637</td>\n",
       "    </tr>\n",
       "    <tr>\n",
       "      <th>4</th>\n",
       "      <td>0</td>\n",
       "      <td>1795</td>\n",
       "    </tr>\n",
       "  </tbody>\n",
       "</table>\n",
       "</div>"
      ],
      "text/plain": [
       "   user_id  item_id\n",
       "0        0      257\n",
       "1        0      267\n",
       "2        0     5555\n",
       "3        0     3637\n",
       "4        0     1795"
      ]
     },
     "execution_count": 14,
     "metadata": {},
     "output_type": "execute_result"
    }
   ],
   "source": [
    "df.head()"
   ]
  },
  {
   "cell_type": "markdown",
   "id": "15db8561-1401-4e41-a087-c83d69c7d503",
   "metadata": {},
   "source": [
    "## 数据预处理¶\n",
    "构建Dataset类\n",
    "构建负样本\n",
    "划分测试集与验证集\n",
    "构建对应的Dataloader"
   ]
  },
  {
   "cell_type": "code",
   "execution_count": 15,
   "id": "ab8f37cf-6eb0-4666-808e-945999d9f1c2",
   "metadata": {},
   "outputs": [
    {
     "data": {
      "text/plain": [
       "17"
      ]
     },
     "execution_count": 15,
     "metadata": {},
     "output_type": "execute_result"
    }
   ],
   "source": [
    "rows_count_per_id = df.groupby('user_id').size().reset_index(name='count')\n",
    "rows_count_per_id['count'].min()"
   ]
  },
  {
   "cell_type": "code",
   "execution_count": 16,
   "id": "2694f9f2-30ee-4326-ae59-c52a27421228",
   "metadata": {},
   "outputs": [],
   "source": [
    "def get_sequence_and_next_value(data):\n",
    "    window_size=10\n",
    "    sequences = []\n",
    "    next_values = []\n",
    "    data=data.item_id.values\n",
    "    \n",
    "    for i in range(len(data) - window_size):\n",
    "        sequence = data[i : i + window_size]\n",
    "        next_value = data[i + window_size]\n",
    "        sequences.append(sequence)\n",
    "        next_values.append(next_value)\n",
    "  \n",
    "    # 生成的序列和对应值\n",
    "    data = {\n",
    "        'Sequence': sequences,\n",
    "        'Next_Value': next_values\n",
    "    }\n",
    "    \n",
    "    # 将数据转换为 DataFrame\n",
    "    df = pd.DataFrame(data)\n",
    "    \n",
    "    return df\n",
    "    \n",
    "\n",
    "# 将数据转换为列表\n"
   ]
  },
  {
   "cell_type": "code",
   "execution_count": 17,
   "id": "e13ca94a-b4e2-4ff7-a74f-e8a239f460fe",
   "metadata": {},
   "outputs": [],
   "source": [
    "x=df.groupby('user_id').apply(get_sequence_and_next_value)"
   ]
  },
  {
   "cell_type": "code",
   "execution_count": 18,
   "id": "7457e7b9-d4eb-4e03-9c47-fc0d82e89a48",
   "metadata": {},
   "outputs": [],
   "source": [
    "x=x.reset_index(drop=True)\n",
    "\n",
    "x=x.sample(n=100000)"
   ]
  },
  {
   "cell_type": "code",
   "execution_count": 19,
   "id": "54c4b81e-0bd5-46b2-be63-8eef92c42d5c",
   "metadata": {},
   "outputs": [],
   "source": [
    "X=x.Sequence.values\n",
    "df=np.vstack(X)\n",
    "df=pd.DataFrame(df)\n",
    "Y=x.Next_Value.values"
   ]
  },
  {
   "cell_type": "code",
   "execution_count": 20,
   "id": "0df18a73",
   "metadata": {},
   "outputs": [
    {
     "data": {
      "text/plain": [
       "array([2961,  459,  324, ..., 5980,   26, 4463], dtype=int64)"
      ]
     },
     "execution_count": 20,
     "metadata": {},
     "output_type": "execute_result"
    }
   ],
   "source": [
    "Y"
   ]
  },
  {
   "cell_type": "code",
   "execution_count": 21,
   "id": "da7f37fb-ede1-4339-8915-cea6a132f3de",
   "metadata": {},
   "outputs": [
    {
     "data": {
      "text/html": [
       "<style type=\"text/css\">\n",
       "#T_b7d0d_row8_col1 {\n",
       "  background-color: lightgreen;\n",
       "}\n",
       "</style>\n",
       "<table id=\"T_b7d0d\">\n",
       "  <thead>\n",
       "    <tr>\n",
       "      <th class=\"blank level0\" >&nbsp;</th>\n",
       "      <th id=\"T_b7d0d_level0_col0\" class=\"col_heading level0 col0\" >Description</th>\n",
       "      <th id=\"T_b7d0d_level0_col1\" class=\"col_heading level0 col1\" >Value</th>\n",
       "    </tr>\n",
       "  </thead>\n",
       "  <tbody>\n",
       "    <tr>\n",
       "      <th id=\"T_b7d0d_level0_row0\" class=\"row_heading level0 row0\" >0</th>\n",
       "      <td id=\"T_b7d0d_row0_col0\" class=\"data row0 col0\" >Session id</td>\n",
       "      <td id=\"T_b7d0d_row0_col1\" class=\"data row0 col1\" >123</td>\n",
       "    </tr>\n",
       "    <tr>\n",
       "      <th id=\"T_b7d0d_level0_row1\" class=\"row_heading level0 row1\" >1</th>\n",
       "      <td id=\"T_b7d0d_row1_col0\" class=\"data row1 col0\" >Target</td>\n",
       "      <td id=\"T_b7d0d_row1_col1\" class=\"data row1 col1\" >target</td>\n",
       "    </tr>\n",
       "    <tr>\n",
       "      <th id=\"T_b7d0d_level0_row2\" class=\"row_heading level0 row2\" >2</th>\n",
       "      <td id=\"T_b7d0d_row2_col0\" class=\"data row2 col0\" >Target type</td>\n",
       "      <td id=\"T_b7d0d_row2_col1\" class=\"data row2 col1\" >Regression</td>\n",
       "    </tr>\n",
       "    <tr>\n",
       "      <th id=\"T_b7d0d_level0_row3\" class=\"row_heading level0 row3\" >3</th>\n",
       "      <td id=\"T_b7d0d_row3_col0\" class=\"data row3 col0\" >Original data shape</td>\n",
       "      <td id=\"T_b7d0d_row3_col1\" class=\"data row3 col1\" >(100000, 11)</td>\n",
       "    </tr>\n",
       "    <tr>\n",
       "      <th id=\"T_b7d0d_level0_row4\" class=\"row_heading level0 row4\" >4</th>\n",
       "      <td id=\"T_b7d0d_row4_col0\" class=\"data row4 col0\" >Transformed data shape</td>\n",
       "      <td id=\"T_b7d0d_row4_col1\" class=\"data row4 col1\" >(100000, 11)</td>\n",
       "    </tr>\n",
       "    <tr>\n",
       "      <th id=\"T_b7d0d_level0_row5\" class=\"row_heading level0 row5\" >5</th>\n",
       "      <td id=\"T_b7d0d_row5_col0\" class=\"data row5 col0\" >Transformed train set shape</td>\n",
       "      <td id=\"T_b7d0d_row5_col1\" class=\"data row5 col1\" >(70000, 11)</td>\n",
       "    </tr>\n",
       "    <tr>\n",
       "      <th id=\"T_b7d0d_level0_row6\" class=\"row_heading level0 row6\" >6</th>\n",
       "      <td id=\"T_b7d0d_row6_col0\" class=\"data row6 col0\" >Transformed test set shape</td>\n",
       "      <td id=\"T_b7d0d_row6_col1\" class=\"data row6 col1\" >(30000, 11)</td>\n",
       "    </tr>\n",
       "    <tr>\n",
       "      <th id=\"T_b7d0d_level0_row7\" class=\"row_heading level0 row7\" >7</th>\n",
       "      <td id=\"T_b7d0d_row7_col0\" class=\"data row7 col0\" >Numeric features</td>\n",
       "      <td id=\"T_b7d0d_row7_col1\" class=\"data row7 col1\" >10</td>\n",
       "    </tr>\n",
       "    <tr>\n",
       "      <th id=\"T_b7d0d_level0_row8\" class=\"row_heading level0 row8\" >8</th>\n",
       "      <td id=\"T_b7d0d_row8_col0\" class=\"data row8 col0\" >Preprocess</td>\n",
       "      <td id=\"T_b7d0d_row8_col1\" class=\"data row8 col1\" >True</td>\n",
       "    </tr>\n",
       "    <tr>\n",
       "      <th id=\"T_b7d0d_level0_row9\" class=\"row_heading level0 row9\" >9</th>\n",
       "      <td id=\"T_b7d0d_row9_col0\" class=\"data row9 col0\" >Imputation type</td>\n",
       "      <td id=\"T_b7d0d_row9_col1\" class=\"data row9 col1\" >simple</td>\n",
       "    </tr>\n",
       "    <tr>\n",
       "      <th id=\"T_b7d0d_level0_row10\" class=\"row_heading level0 row10\" >10</th>\n",
       "      <td id=\"T_b7d0d_row10_col0\" class=\"data row10 col0\" >Numeric imputation</td>\n",
       "      <td id=\"T_b7d0d_row10_col1\" class=\"data row10 col1\" >mean</td>\n",
       "    </tr>\n",
       "    <tr>\n",
       "      <th id=\"T_b7d0d_level0_row11\" class=\"row_heading level0 row11\" >11</th>\n",
       "      <td id=\"T_b7d0d_row11_col0\" class=\"data row11 col0\" >Categorical imputation</td>\n",
       "      <td id=\"T_b7d0d_row11_col1\" class=\"data row11 col1\" >mode</td>\n",
       "    </tr>\n",
       "    <tr>\n",
       "      <th id=\"T_b7d0d_level0_row12\" class=\"row_heading level0 row12\" >12</th>\n",
       "      <td id=\"T_b7d0d_row12_col0\" class=\"data row12 col0\" >Fold Generator</td>\n",
       "      <td id=\"T_b7d0d_row12_col1\" class=\"data row12 col1\" >KFold</td>\n",
       "    </tr>\n",
       "    <tr>\n",
       "      <th id=\"T_b7d0d_level0_row13\" class=\"row_heading level0 row13\" >13</th>\n",
       "      <td id=\"T_b7d0d_row13_col0\" class=\"data row13 col0\" >Fold Number</td>\n",
       "      <td id=\"T_b7d0d_row13_col1\" class=\"data row13 col1\" >10</td>\n",
       "    </tr>\n",
       "    <tr>\n",
       "      <th id=\"T_b7d0d_level0_row14\" class=\"row_heading level0 row14\" >14</th>\n",
       "      <td id=\"T_b7d0d_row14_col0\" class=\"data row14 col0\" >CPU Jobs</td>\n",
       "      <td id=\"T_b7d0d_row14_col1\" class=\"data row14 col1\" >-1</td>\n",
       "    </tr>\n",
       "    <tr>\n",
       "      <th id=\"T_b7d0d_level0_row15\" class=\"row_heading level0 row15\" >15</th>\n",
       "      <td id=\"T_b7d0d_row15_col0\" class=\"data row15 col0\" >Use GPU</td>\n",
       "      <td id=\"T_b7d0d_row15_col1\" class=\"data row15 col1\" >False</td>\n",
       "    </tr>\n",
       "    <tr>\n",
       "      <th id=\"T_b7d0d_level0_row16\" class=\"row_heading level0 row16\" >16</th>\n",
       "      <td id=\"T_b7d0d_row16_col0\" class=\"data row16 col0\" >Log Experiment</td>\n",
       "      <td id=\"T_b7d0d_row16_col1\" class=\"data row16 col1\" >False</td>\n",
       "    </tr>\n",
       "    <tr>\n",
       "      <th id=\"T_b7d0d_level0_row17\" class=\"row_heading level0 row17\" >17</th>\n",
       "      <td id=\"T_b7d0d_row17_col0\" class=\"data row17 col0\" >Experiment Name</td>\n",
       "      <td id=\"T_b7d0d_row17_col1\" class=\"data row17 col1\" >reg-default-name</td>\n",
       "    </tr>\n",
       "    <tr>\n",
       "      <th id=\"T_b7d0d_level0_row18\" class=\"row_heading level0 row18\" >18</th>\n",
       "      <td id=\"T_b7d0d_row18_col0\" class=\"data row18 col0\" >USI</td>\n",
       "      <td id=\"T_b7d0d_row18_col1\" class=\"data row18 col1\" >65c6</td>\n",
       "    </tr>\n",
       "  </tbody>\n",
       "</table>\n"
      ],
      "text/plain": [
       "<pandas.io.formats.style.Styler at 0x1d605ab8c70>"
      ]
     },
     "metadata": {},
     "output_type": "display_data"
    }
   ],
   "source": [
    "from pycaret.regression import *\n",
    "s = setup( df, target=Y, session_id = 123)\n"
   ]
  },
  {
   "cell_type": "code",
   "execution_count": null,
   "id": "e4c973d8-797a-45a5-b31f-ceeddaba9fff",
   "metadata": {},
   "outputs": [],
   "source": [
    "rf=s.create_model('br')"
   ]
  },
  {
   "cell_type": "code",
   "execution_count": 49,
   "id": "28646f52",
   "metadata": {},
   "outputs": [],
   "source": [
    "df = pd.read_csv('train_dataset.csv')\n",
    "rows_count_per_id = df.groupby('user_id').tail(10)"
   ]
  },
  {
   "cell_type": "code",
   "execution_count": 38,
   "id": "bc5fea2f-fe7c-4dff-b58b-87e6baf4c470",
   "metadata": {},
   "outputs": [],
   "source": [
    "def pre(rows_count_per_id):\n",
    "    \n",
    "    xx=rf.predict(rows_count_per_id.item_id.values.reshape(1, -1))\n",
    "    return int(xx)\n",
    "    return  xx"
   ]
  },
  {
   "cell_type": "code",
   "execution_count": 50,
   "id": "0c825b3e-ff6a-4467-a64f-d695f3af7c7b",
   "metadata": {},
   "outputs": [],
   "source": [
    "rows_count_per_id = rows_count_per_id.groupby('user_id').apply(pre)"
   ]
  },
  {
   "cell_type": "code",
   "execution_count": 53,
   "id": "072e00e8-9b3b-420c-a2cf-e7d0f7d5127e",
   "metadata": {},
   "outputs": [
    {
     "data": {
      "text/plain": [
       "array([1309,  971, 1358, ...,  993, 1867, 1234], dtype=int64)"
      ]
     },
     "execution_count": 53,
     "metadata": {},
     "output_type": "execute_result"
    }
   ],
   "source": [
    "rows_count_per_id.values"
   ]
  },
  {
   "cell_type": "code",
   "execution_count": 62,
   "id": "8cd40637-d28e-40e2-b5dc-00d7d20ab0c6",
   "metadata": {},
   "outputs": [],
   "source": [
    "df=pd.DataFrame()\n",
    "df['user_id']=rows_count_per_id.index\n",
    "df['item_id']=rows_count_per_id.values\n",
    "df.to_csv('submission1.csv', index=False) "
   ]
  },
  {
   "cell_type": "code",
   "execution_count": 58,
   "id": "121eac22-367f-46dc-a497-44d6b6c9214f",
   "metadata": {},
   "outputs": [
    {
     "data": {
      "text/html": [
       "<div>\n",
       "<style scoped>\n",
       "    .dataframe tbody tr th:only-of-type {\n",
       "        vertical-align: middle;\n",
       "    }\n",
       "\n",
       "    .dataframe tbody tr th {\n",
       "        vertical-align: top;\n",
       "    }\n",
       "\n",
       "    .dataframe thead th {\n",
       "        text-align: right;\n",
       "    }\n",
       "</style>\n",
       "<table border=\"1\" class=\"dataframe\">\n",
       "  <thead>\n",
       "    <tr style=\"text-align: right;\">\n",
       "      <th></th>\n",
       "      <th>user_id</th>\n",
       "      <th>item_id</th>\n",
       "    </tr>\n",
       "  </thead>\n",
       "  <tbody>\n",
       "    <tr>\n",
       "      <th>0</th>\n",
       "      <td>0</td>\n",
       "      <td>1309</td>\n",
       "    </tr>\n",
       "    <tr>\n",
       "      <th>1</th>\n",
       "      <td>1</td>\n",
       "      <td>971</td>\n",
       "    </tr>\n",
       "    <tr>\n",
       "      <th>2</th>\n",
       "      <td>2</td>\n",
       "      <td>1358</td>\n",
       "    </tr>\n",
       "    <tr>\n",
       "      <th>3</th>\n",
       "      <td>3</td>\n",
       "      <td>1329</td>\n",
       "    </tr>\n",
       "    <tr>\n",
       "      <th>4</th>\n",
       "      <td>4</td>\n",
       "      <td>3189</td>\n",
       "    </tr>\n",
       "    <tr>\n",
       "      <th>...</th>\n",
       "      <td>...</td>\n",
       "      <td>...</td>\n",
       "    </tr>\n",
       "    <tr>\n",
       "      <th>53419</th>\n",
       "      <td>53419</td>\n",
       "      <td>3111</td>\n",
       "    </tr>\n",
       "    <tr>\n",
       "      <th>53420</th>\n",
       "      <td>53420</td>\n",
       "      <td>5292</td>\n",
       "    </tr>\n",
       "    <tr>\n",
       "      <th>53421</th>\n",
       "      <td>53421</td>\n",
       "      <td>993</td>\n",
       "    </tr>\n",
       "    <tr>\n",
       "      <th>53422</th>\n",
       "      <td>53422</td>\n",
       "      <td>1867</td>\n",
       "    </tr>\n",
       "    <tr>\n",
       "      <th>53423</th>\n",
       "      <td>53423</td>\n",
       "      <td>1234</td>\n",
       "    </tr>\n",
       "  </tbody>\n",
       "</table>\n",
       "<p>53424 rows × 2 columns</p>\n",
       "</div>"
      ],
      "text/plain": [
       "       user_id  item_id\n",
       "0            0     1309\n",
       "1            1      971\n",
       "2            2     1358\n",
       "3            3     1329\n",
       "4            4     3189\n",
       "...        ...      ...\n",
       "53419    53419     3111\n",
       "53420    53420     5292\n",
       "53421    53421      993\n",
       "53422    53422     1867\n",
       "53423    53423     1234\n",
       "\n",
       "[53424 rows x 2 columns]"
      ]
     },
     "execution_count": 58,
     "metadata": {},
     "output_type": "execute_result"
    }
   ],
   "source": [
    "df"
   ]
  },
  {
   "cell_type": "code",
   "execution_count": 64,
   "id": "64226aef-3d12-4062-a82e-d3ca71f3e4f0",
   "metadata": {},
   "outputs": [
    {
     "data": {
      "text/html": [],
      "text/plain": [
       "<IPython.core.display.HTML object>"
      ]
     },
     "metadata": {},
     "output_type": "display_data"
    },
    {
     "data": {
      "text/html": [
       "<style type=\"text/css\">\n",
       "#T_cd895_row10_col0, #T_cd895_row10_col1, #T_cd895_row10_col2, #T_cd895_row10_col3, #T_cd895_row10_col4, #T_cd895_row10_col5 {\n",
       "  background: yellow;\n",
       "}\n",
       "</style>\n",
       "<table id=\"T_cd895\">\n",
       "  <thead>\n",
       "    <tr>\n",
       "      <th class=\"blank level0\" >&nbsp;</th>\n",
       "      <th id=\"T_cd895_level0_col0\" class=\"col_heading level0 col0\" >MAE</th>\n",
       "      <th id=\"T_cd895_level0_col1\" class=\"col_heading level0 col1\" >MSE</th>\n",
       "      <th id=\"T_cd895_level0_col2\" class=\"col_heading level0 col2\" >RMSE</th>\n",
       "      <th id=\"T_cd895_level0_col3\" class=\"col_heading level0 col3\" >R2</th>\n",
       "      <th id=\"T_cd895_level0_col4\" class=\"col_heading level0 col4\" >RMSLE</th>\n",
       "      <th id=\"T_cd895_level0_col5\" class=\"col_heading level0 col5\" >MAPE</th>\n",
       "    </tr>\n",
       "    <tr>\n",
       "      <th class=\"index_name level0\" >Fold</th>\n",
       "      <th class=\"blank col0\" >&nbsp;</th>\n",
       "      <th class=\"blank col1\" >&nbsp;</th>\n",
       "      <th class=\"blank col2\" >&nbsp;</th>\n",
       "      <th class=\"blank col3\" >&nbsp;</th>\n",
       "      <th class=\"blank col4\" >&nbsp;</th>\n",
       "      <th class=\"blank col5\" >&nbsp;</th>\n",
       "    </tr>\n",
       "  </thead>\n",
       "  <tbody>\n",
       "    <tr>\n",
       "      <th id=\"T_cd895_level0_row0\" class=\"row_heading level0 row0\" >0</th>\n",
       "      <td id=\"T_cd895_row0_col0\" class=\"data row0 col0\" >1620.8069</td>\n",
       "      <td id=\"T_cd895_row0_col1\" class=\"data row0 col1\" >4857456.7985</td>\n",
       "      <td id=\"T_cd895_row0_col2\" class=\"data row0 col2\" >2203.9639</td>\n",
       "      <td id=\"T_cd895_row0_col3\" class=\"data row0 col3\" >0.2013</td>\n",
       "      <td id=\"T_cd895_row0_col4\" class=\"data row0 col4\" >1.8780</td>\n",
       "      <td id=\"T_cd895_row0_col5\" class=\"data row0 col5\" >17.5517</td>\n",
       "    </tr>\n",
       "    <tr>\n",
       "      <th id=\"T_cd895_level0_row1\" class=\"row_heading level0 row1\" >1</th>\n",
       "      <td id=\"T_cd895_row1_col0\" class=\"data row1 col0\" >1590.1587</td>\n",
       "      <td id=\"T_cd895_row1_col1\" class=\"data row1 col1\" >4717379.8948</td>\n",
       "      <td id=\"T_cd895_row1_col2\" class=\"data row1 col2\" >2171.9530</td>\n",
       "      <td id=\"T_cd895_row1_col3\" class=\"data row1 col3\" >0.2221</td>\n",
       "      <td id=\"T_cd895_row1_col4\" class=\"data row1 col4\" >1.8607</td>\n",
       "      <td id=\"T_cd895_row1_col5\" class=\"data row1 col5\" >18.1096</td>\n",
       "    </tr>\n",
       "    <tr>\n",
       "      <th id=\"T_cd895_level0_row2\" class=\"row_heading level0 row2\" >2</th>\n",
       "      <td id=\"T_cd895_row2_col0\" class=\"data row2 col0\" >1615.8981</td>\n",
       "      <td id=\"T_cd895_row2_col1\" class=\"data row2 col1\" >4849096.1118</td>\n",
       "      <td id=\"T_cd895_row2_col2\" class=\"data row2 col2\" >2202.0663</td>\n",
       "      <td id=\"T_cd895_row2_col3\" class=\"data row2 col3\" >0.2056</td>\n",
       "      <td id=\"T_cd895_row2_col4\" class=\"data row2 col4\" >1.8440</td>\n",
       "      <td id=\"T_cd895_row2_col5\" class=\"data row2 col5\" >16.2047</td>\n",
       "    </tr>\n",
       "    <tr>\n",
       "      <th id=\"T_cd895_level0_row3\" class=\"row_heading level0 row3\" >3</th>\n",
       "      <td id=\"T_cd895_row3_col0\" class=\"data row3 col0\" >1634.7051</td>\n",
       "      <td id=\"T_cd895_row3_col1\" class=\"data row3 col1\" >4945877.1845</td>\n",
       "      <td id=\"T_cd895_row3_col2\" class=\"data row3 col2\" >2223.9328</td>\n",
       "      <td id=\"T_cd895_row3_col3\" class=\"data row3 col3\" >0.1810</td>\n",
       "      <td id=\"T_cd895_row3_col4\" class=\"data row3 col4\" >1.8771</td>\n",
       "      <td id=\"T_cd895_row3_col5\" class=\"data row3 col5\" >17.5570</td>\n",
       "    </tr>\n",
       "    <tr>\n",
       "      <th id=\"T_cd895_level0_row4\" class=\"row_heading level0 row4\" >4</th>\n",
       "      <td id=\"T_cd895_row4_col0\" class=\"data row4 col0\" >1611.9254</td>\n",
       "      <td id=\"T_cd895_row4_col1\" class=\"data row4 col1\" >4895347.0434</td>\n",
       "      <td id=\"T_cd895_row4_col2\" class=\"data row4 col2\" >2212.5431</td>\n",
       "      <td id=\"T_cd895_row4_col3\" class=\"data row4 col3\" >0.1989</td>\n",
       "      <td id=\"T_cd895_row4_col4\" class=\"data row4 col4\" >1.8679</td>\n",
       "      <td id=\"T_cd895_row4_col5\" class=\"data row4 col5\" >17.6085</td>\n",
       "    </tr>\n",
       "    <tr>\n",
       "      <th id=\"T_cd895_level0_row5\" class=\"row_heading level0 row5\" >5</th>\n",
       "      <td id=\"T_cd895_row5_col0\" class=\"data row5 col0\" >1623.8324</td>\n",
       "      <td id=\"T_cd895_row5_col1\" class=\"data row5 col1\" >4997279.1891</td>\n",
       "      <td id=\"T_cd895_row5_col2\" class=\"data row5 col2\" >2235.4595</td>\n",
       "      <td id=\"T_cd895_row5_col3\" class=\"data row5 col3\" >0.1844</td>\n",
       "      <td id=\"T_cd895_row5_col4\" class=\"data row5 col4\" >1.8613</td>\n",
       "      <td id=\"T_cd895_row5_col5\" class=\"data row5 col5\" >21.1533</td>\n",
       "    </tr>\n",
       "    <tr>\n",
       "      <th id=\"T_cd895_level0_row6\" class=\"row_heading level0 row6\" >6</th>\n",
       "      <td id=\"T_cd895_row6_col0\" class=\"data row6 col0\" >1639.5268</td>\n",
       "      <td id=\"T_cd895_row6_col1\" class=\"data row6 col1\" >5020074.4642</td>\n",
       "      <td id=\"T_cd895_row6_col2\" class=\"data row6 col2\" >2240.5523</td>\n",
       "      <td id=\"T_cd895_row6_col3\" class=\"data row6 col3\" >0.2045</td>\n",
       "      <td id=\"T_cd895_row6_col4\" class=\"data row6 col4\" >1.8577</td>\n",
       "      <td id=\"T_cd895_row6_col5\" class=\"data row6 col5\" >17.4994</td>\n",
       "    </tr>\n",
       "    <tr>\n",
       "      <th id=\"T_cd895_level0_row7\" class=\"row_heading level0 row7\" >7</th>\n",
       "      <td id=\"T_cd895_row7_col0\" class=\"data row7 col0\" >1617.9852</td>\n",
       "      <td id=\"T_cd895_row7_col1\" class=\"data row7 col1\" >4836597.7674</td>\n",
       "      <td id=\"T_cd895_row7_col2\" class=\"data row7 col2\" >2199.2266</td>\n",
       "      <td id=\"T_cd895_row7_col3\" class=\"data row7 col3\" >0.1837</td>\n",
       "      <td id=\"T_cd895_row7_col4\" class=\"data row7 col4\" >1.9005</td>\n",
       "      <td id=\"T_cd895_row7_col5\" class=\"data row7 col5\" >18.9007</td>\n",
       "    </tr>\n",
       "    <tr>\n",
       "      <th id=\"T_cd895_level0_row8\" class=\"row_heading level0 row8\" >8</th>\n",
       "      <td id=\"T_cd895_row8_col0\" class=\"data row8 col0\" >1621.5093</td>\n",
       "      <td id=\"T_cd895_row8_col1\" class=\"data row8 col1\" >4907618.1691</td>\n",
       "      <td id=\"T_cd895_row8_col2\" class=\"data row8 col2\" >2215.3145</td>\n",
       "      <td id=\"T_cd895_row8_col3\" class=\"data row8 col3\" >0.2060</td>\n",
       "      <td id=\"T_cd895_row8_col4\" class=\"data row8 col4\" >1.8899</td>\n",
       "      <td id=\"T_cd895_row8_col5\" class=\"data row8 col5\" >18.4654</td>\n",
       "    </tr>\n",
       "    <tr>\n",
       "      <th id=\"T_cd895_level0_row9\" class=\"row_heading level0 row9\" >9</th>\n",
       "      <td id=\"T_cd895_row9_col0\" class=\"data row9 col0\" >1634.7361</td>\n",
       "      <td id=\"T_cd895_row9_col1\" class=\"data row9 col1\" >4936446.3838</td>\n",
       "      <td id=\"T_cd895_row9_col2\" class=\"data row9 col2\" >2221.8115</td>\n",
       "      <td id=\"T_cd895_row9_col3\" class=\"data row9 col3\" >0.2079</td>\n",
       "      <td id=\"T_cd895_row9_col4\" class=\"data row9 col4\" >1.9062</td>\n",
       "      <td id=\"T_cd895_row9_col5\" class=\"data row9 col5\" >19.0214</td>\n",
       "    </tr>\n",
       "    <tr>\n",
       "      <th id=\"T_cd895_level0_row10\" class=\"row_heading level0 row10\" >Mean</th>\n",
       "      <td id=\"T_cd895_row10_col0\" class=\"data row10 col0\" >1621.1084</td>\n",
       "      <td id=\"T_cd895_row10_col1\" class=\"data row10 col1\" >4896317.3007</td>\n",
       "      <td id=\"T_cd895_row10_col2\" class=\"data row10 col2\" >2212.6824</td>\n",
       "      <td id=\"T_cd895_row10_col3\" class=\"data row10 col3\" >0.1995</td>\n",
       "      <td id=\"T_cd895_row10_col4\" class=\"data row10 col4\" >1.8743</td>\n",
       "      <td id=\"T_cd895_row10_col5\" class=\"data row10 col5\" >18.2072</td>\n",
       "    </tr>\n",
       "    <tr>\n",
       "      <th id=\"T_cd895_level0_row11\" class=\"row_heading level0 row11\" >Std</th>\n",
       "      <td id=\"T_cd895_row11_col0\" class=\"data row11 col0\" >13.4038</td>\n",
       "      <td id=\"T_cd895_row11_col1\" class=\"data row11 col1\" >83083.8805</td>\n",
       "      <td id=\"T_cd895_row11_col2\" class=\"data row11 col2\" >18.8177</td>\n",
       "      <td id=\"T_cd895_row11_col3\" class=\"data row11 col3\" >0.0123</td>\n",
       "      <td id=\"T_cd895_row11_col4\" class=\"data row11 col4\" >0.0189</td>\n",
       "      <td id=\"T_cd895_row11_col5\" class=\"data row11 col5\" >1.2499</td>\n",
       "    </tr>\n",
       "  </tbody>\n",
       "</table>\n"
      ],
      "text/plain": [
       "<pandas.io.formats.style.Styler at 0x1d6146bff10>"
      ]
     },
     "metadata": {},
     "output_type": "display_data"
    },
    {
     "data": {
      "text/html": [],
      "text/plain": [
       "<IPython.core.display.HTML object>"
      ]
     },
     "metadata": {},
     "output_type": "display_data"
    }
   ],
   "source": [
    "rf=s.create_model('rf')"
   ]
  },
  {
   "cell_type": "code",
   "execution_count": 65,
   "id": "6474e3e3-9990-4d71-b6ad-ee3b8db33fd7",
   "metadata": {},
   "outputs": [],
   "source": [
    "df = pd.read_csv('train_dataset.csv')\n",
    "rows_count_per_id = df.groupby('user_id').tail(10)\n",
    "rows_count_per_id = rows_count_per_id.groupby('user_id').apply(pre)\n",
    "df=pd.DataFrame()\n",
    "df['user_id']=rows_count_per_id.index\n",
    "df['item_id']=rows_count_per_id.values\n",
    "df.to_csv('submission1.csv', index=False) "
   ]
  },
  {
   "cell_type": "code",
   "execution_count": null,
   "id": "2c55a021-99fa-461f-b822-cb5621a169e4",
   "metadata": {},
   "outputs": [],
   "source": []
  }
 ],
 "metadata": {
  "kernelspec": {
   "display_name": "Python 3 (ipykernel)",
   "language": "python",
   "name": "python3"
  },
  "language_info": {
   "codemirror_mode": {
    "name": "ipython",
    "version": 3
   },
   "file_extension": ".py",
   "mimetype": "text/x-python",
   "name": "python",
   "nbconvert_exporter": "python",
   "pygments_lexer": "ipython3",
   "version": "3.8.17"
  }
 },
 "nbformat": 4,
 "nbformat_minor": 5
}
